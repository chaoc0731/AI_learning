{
 "cells": [
  {
   "cell_type": "code",
   "execution_count": null,
   "id": "b51170c7-1fa2-4bb0-92d0-0bbafd9827bc",
   "metadata": {},
   "outputs": [],
   "source": [
    "任务描述：\n",
    "随着电信行业的不断发展，运营商们越来越重视如何扩大其客户群体。据研究，获取新客户所需的成本远高于保留现有客户的成本，因此为了满足在激烈竞争中的优势，保留现有客户成为\n",
    "一大挑战。对电信行业而言，可以通过数据挖掘等方式来分析可能影响客户决策的各村因素，以预测他们是否会产生流失（停用服务、转投其他运营商等）。"
   ]
  },
  {
   "cell_type": "code",
   "execution_count": null,
   "id": "2aa88f66-b752-48c1-971f-0416ccd3ffcf",
   "metadata": {},
   "outputs": [],
   "source": [
    "数据集：\n",
    "数据集一共提供了7043条用户样本，每条样本包含21列属性，由多个维度的客户信息以及用户是否最终流失的标签组成，客户信息具体如下：\n",
    "基本信息：包括性别、年龄、经济情况、入网时间等；\n",
    "开通业务信息：包括是否开通电话业务、互联网业务、网络电视业务、技术支持业务等；\n",
    "签署的合约信息：包括合同年限、付款方式、每月费用、总费用等。"
   ]
  },
  {
   "cell_type": "code",
   "execution_count": null,
   "id": "fc9df170-9788-4371-a039-a55b6faa269c",
   "metadata": {},
   "outputs": [],
   "source": [
    "工作流程：数据预处理、可视化分析、特征工程、模型预测、模型评估、分析与决策。"
   ]
  },
  {
   "cell_type": "code",
   "execution_count": null,
   "id": "1b820b94-e501-4363-994a-b71fb0a40ca1",
   "metadata": {},
   "outputs": [],
   "source": [
    "一：导包以及显示设置"
   ]
  },
  {
   "cell_type": "code",
   "execution_count": null,
   "id": "02ce7cb0-9652-49ca-bb0d-33b7ca309359",
   "metadata": {},
   "outputs": [],
   "source": [
    "import numpy as np\n",
    "import pandas as pd\n",
    "import matplotlib as mpl\n",
    "import matplotlib.pyplot as plt\n",
    "import seaborn as sns\n",
    "from sklearn.neighbors import NearestNeighbors\n",
    "import lightgbm\n",
    "import random\n",
    "import time\n",
    "import sys\n",
    "import warnings\n",
    "warnings.filterwarnings('ignore')  # 设置忽略警告\n",
    "\n",
    "plt.rcParams['font.sans-serif'] = ['SimHei']  # 设置为黑体\n",
    "plt.rcParams['axes.unicode_minus'] = False    # 解决负号显示问题:cite[1]:cite[3]:cite[6]\n",
    "\n",
    "np.set_printoptions(precision=3, suppress=True)\n",
    "pd.set_option('display.float_format', lambda x: '%.2f' % x) # 禁用科学计数法\n",
    "\n",
    "pd.set_option('display.max_columns', None)  # 显示所有列\n",
    "pd.set_option('display.max_rows', None)     # 显示所有行\n"
   ]
  },
  {
   "cell_type": "code",
   "execution_count": null,
   "id": "261c2c0b-bb94-4e75-87c6-aa8bcc29802f",
   "metadata": {},
   "outputs": [],
   "source": [
    "二、数据导入（数据由kaggle下载）"
   ]
  },
  {
   "cell_type": "code",
   "execution_count": null,
   "id": "3633f11f-7761-4992-b0cc-cc3c2c492b9e",
   "metadata": {},
   "outputs": [],
   "source": [
    "data = pd.read_csv('D:\\ProgramData\\PycharmProjects\\pythonProject1\\WA_Fn-UseC_-Telco-Customer-Churn.csv')\n",
    "# print(data.head(10))\n",
    "# print(data.describe())\n",
    "# print('-' * 50)\n",
    "# print(data.isnull().any())\n",
    "data[data['TotalCharges'] == '']"
   ]
  },
  {
   "cell_type": "code",
   "execution_count": null,
   "id": "94ec11ee-ef3a-4ff2-b479-c74add8b287b",
   "metadata": {},
   "outputs": [],
   "source": [
    "通过查看数据信息分析可以知道，21列原始属性中，除了最后一列Chun表示该数据集的目标变量（即标签列）外，其余20列按照原始数据集中的排列顺序网好可以分为三类特征群：\n",
    "客户的基本信息、开通业务信息、签署的合约信息。每一列具体信息如下：\n",
    "基本信息：0-5列\n",
    "业务信息：6-12列\n",
    "19合约信息：13-20列"
   ]
  },
  {
   "cell_type": "code",
   "execution_count": null,
   "id": "24a84532-bd45-4d26-8e07-bdcd2e2e7350",
   "metadata": {},
   "outputs": [],
   "source": [
    "三、异常值、缺失值处理"
   ]
  },
  {
   "cell_type": "code",
   "execution_count": null,
   "id": "abbd2b57-f12e-4fc1-be77-ee1e7e0029f7",
   "metadata": {},
   "outputs": [],
   "source": [
    "# 方式1: 固定值填充\n",
    "# fnDF = data['TotalCharges'].fillna(0).to_frame()\n",
    "# print('如果采用固定值填充方法还存在%s行缺失样本' % fnDF['TotalCharges'].isnull().sum())"
   ]
  },
  {
   "cell_type": "code",
   "execution_count": null,
   "id": "1ce37be8-a728-4498-bb01-d41e89f64cc6",
   "metadata": {},
   "outputs": [],
   "source": [
    "# 方式2: 特殊值填充\n",
    "# 特殊值填充，这里结合实际情况发现TotalCharges和MonthCharges有一定关系\n",
    "# 且入网月数为0时，仍然收取了一个月的费用，所以这里我们用MonthCharges填充TotalCharges是合理的"
   ]
  },
  {
   "cell_type": "code",
   "execution_count": null,
   "id": "cdd9d075-8a57-4bb9-9652-3e14b1d45b4c",
   "metadata": {},
   "outputs": [],
   "source": [
    "data['TotalCharges'] = data ['TotalCharges'].apply(pd.to_numeric, errors='coerce')\n",
    "print('此时TotalCharges已转为浮点型：', data['TotalCharges'].dtype == 'float')\n",
    "print('此时TotalCharges存在%s行缺失样本' % data['TotalCharges'].isnull().sum())# 查看缺失行数\n",
    "data['TotalCharges'] = data['TotalCharges'].fillna(data['MonthlyCharges'])  # 。fillna 填充\n",
    "print('如果采用特殊值填充方法还存在%s行缺失样本' % data ['TotalCharges'].isnull().sum())\n",
    "print(data.describe())"
   ]
  },
  {
   "cell_type": "code",
   "execution_count": null,
   "id": "3f7d5d12-be3b-45a7-8ce7-db08adb8732b",
   "metadata": {},
   "outputs": [],
   "source": [
    "四、可视化分析"
   ]
  },
  {
   "cell_type": "code",
   "execution_count": null,
   "id": "c7accdea-7490-48fe-b6b8-2df318d1cc0a",
   "metadata": {},
   "outputs": [],
   "source": [
    "# 1.箱型图可视化分析百分比trenure特征  boxplot"
   ]
  },
  {
   "cell_type": "code",
   "execution_count": null,
   "id": "f098dc54-a401-448a-92f0-da90a7bd4fc3",
   "metadata": {},
   "outputs": [],
   "source": [
    "fig = plt.figure(figsize=(9, 6))\n",
    "\n",
    "# trenure特征\n",
    "ax1 = fig.add_subplot(311) # 子图1\n",
    "list1 = list(data['tenure'])\n",
    "ax1.boxplot(list1, vert=False, showmeans=True, flierprops={'marker':'o', 'markerfacecolor':'steelblue'})\n",
    "ax1.set_title('tenure')\n",
    "\n",
    "ax2 = fig.add_subplot(312)\n",
    "list2 = list(data['MonthlyCharges'])\n",
    "ax2.boxplot(list2,vert=False, showmeans=True, flierprops={'marker':'o','markerfacecolor':'steelblue'})\n",
    "ax2.set_title('MonthlyCharges')\n",
    "\n",
    "ax3 = fig.add_subplot(313)\n",
    "list3 = list(data['TotalCharges'])\n",
    "ax3.boxplot(list3,vert=False, showmeans=True, flierprops={'marker':'o','markerfacecolor':'steelblue'})\n",
    "ax3.set_title('TotalCharges')\n",
    "\n",
    "plt.tight_layout(pad = 1.5) # 子图之间的间距\n",
    "plt.show()"
   ]
  },
  {
   "cell_type": "code",
   "execution_count": null,
   "id": "6a8f089c-6ea2-4e81-b237-f5e4cfc42a3c",
   "metadata": {},
   "outputs": [],
   "source": [
    "由上图的箱型图可以看出来tenure、MonthlyCharges及经过处理的TotalCharges特征均不含离群点，即异常值。"
   ]
  },
  {
   "cell_type": "code",
   "execution_count": null,
   "id": "10f4522b-1602-4971-9558-6eac8622b31b",
   "metadata": {},
   "outputs": [],
   "source": [
    "# 可视化分析流失客户占比\n",
    "p = data['Churn'].value_counts()  #  目标变量的正负样本分布\n",
    "\n",
    "plt.figure(figsize=(9,6))\n",
    "\n",
    "patchs, l_text, p_text = plt.pie(p, labels=['No', 'Yes'], autopct='%1.2f%%', explode=(0.1, 0))\n",
    "for t in p_text:\n",
    "    t.set_size(15) # 文字大小\n",
    "for t in l_text:\n",
    "    t.set_size(15)\n",
    "\n",
    "plt.show()"
   ]
  },
  {
   "cell_type": "code",
   "execution_count": null,
   "id": "76da888b-8723-4faf-9cce-76405d619749",
   "metadata": {},
   "outputs": [],
   "source": [
    "# 2.对三个类别的特征属性分别分析，客户对流失的影响"
   ]
  },
  {
   "cell_type": "code",
   "execution_count": null,
   "id": "57fd151f-ae0f-440d-9536-c558efbdbaf7",
   "metadata": {},
   "outputs": [],
   "source": [
    "# （1）基本特征\n",
    "baseCols = ['gender','SeniorCitizen','Partner','Dependents']\n",
    "\n",
    "for i in baseCols:\n",
    "    cnt = pd.crosstab(data[i], data['Churn']) # 构建基本特征与目标特征的列联表\n",
    "    # pd.crosstab()函数，这是一个非常实用的pandas交叉表函数。\n",
    "    # 必需参数\n",
    "    # index：行 索引（数组、Series或列表）\n",
    "    # columns：列 索引（数组、Series或列表）\n",
    "    # 常用可选参数\n",
    "    # values：要聚合的数值列\n",
    "    # aggfunc：聚合函数（当指定values时使用），默认为计数\n",
    "    # margins：是否添加行列总计，默认为False\n",
    "    # margins_name：总计行的名称，默认为\n",
    "    # 'All'\n",
    "    # normalize：标准化选项\n",
    "    cnt.plot.bar(stacked=True) #绘制柱状图的强大函数\n",
    "    plt.show()"
   ]
  },
  {
   "cell_type": "code",
   "execution_count": null,
   "id": "55d7734e-53c8-4c71-9e92-8ba55723955c",
   "metadata": {},
   "outputs": [],
   "source": [
    "由图可知：\n",
    "·性别对客户流失基本没有影响；\n",
    "·年龄对客户流失有影响，老年人流失占比高于年轻人；\n",
    "·是否有配偶对客户流失有影响，无配偶客户流失占比高于有配偶客户；\n",
    "·是否有家属对客户流失有影响，无家属客户流失占比高于有家属客户，"
   ]
  },
  {
   "cell_type": "code",
   "execution_count": null,
   "id": "6f047083-2904-436a-9ecd-383dea518bb3",
   "metadata": {},
   "outputs": [],
   "source": [
    "groupDF = data[['tenure', 'Churn']]\n",
    "groupDF['Churn'] = groupDF['Churn'].map({'Yes':1, 'No':0}) # 将正负样本改（.map函数）为0，1方便计算\n",
    "percentageDF = groupDF.groupby(['tenure']).sum() / groupDF.groupby(['tenure']).count() # 计算每个 tenure 分组(.groupby函数)中各个数值列的平均值（百分比形式）。\n",
    "percentageDF = percentageDF.reset_index() # 将索引变成列\n",
    "\n",
    "plt.figure(figsize=(9,6))\n",
    "plt.plot(percentageDF['tenure'], percentageDF['Churn'], label='Churn percentage') # 绘制折线图\n",
    "plt.legend()\n",
    "plt.show()"
   ]
  },
  {
   "cell_type": "code",
   "execution_count": null,
   "id": "21143a31-e8f1-4ce9-b0bd-11d361e259d6",
   "metadata": {},
   "outputs": [],
   "source": [
    "由图可知使用时长1-2个月的用户流失率高"
   ]
  },
  {
   "cell_type": "code",
   "execution_count": null,
   "id": "0e18e4df-aceb-4b36-b2a1-c077d926d7e2",
   "metadata": {},
   "outputs": [],
   "source": [
    "# 对业务特征分析对流失的影响\n",
    "posDF = data[data['PhoneService'] == 'Yes'] # 分别求yes和no情况下的流失占比\n",
    "negDF = data[data['PhoneService'] == 'No']\n",
    "\n",
    "fig = plt.figure(figsize=(9,6))\n",
    "ax1 = fig.add_subplot(121)\n",
    "p1 = posDF['Churn'].value_counts()\n",
    "# print(p1)\n",
    "ax1.pie(p1, labels=['No', 'Yes'], autopct='%1.2f%%', explode=(0.1, 0))\n",
    "ax1.set_title('Churn of (PhoneService = Yes)')\n",
    "\n",
    "ax2 = fig.add_subplot(122)\n",
    "p2 = negDF['Churn'].value_counts()\n",
    "ax2.pie(p2, labels=['No', 'Yes'], autopct='%1.2f%%', explode=(0.1, 0))\n",
    "ax2.set_title('Churn of (PhoneService = no)')\n",
    "\n",
    "plt.tight_layout(pad = 0.5)\n",
    "plt.show()"
   ]
  },
  {
   "cell_type": "code",
   "execution_count": null,
   "id": "a1a5262c-61f8-43be-8f05-1df53d96cbc5",
   "metadata": {},
   "outputs": [],
   "source": [
    "由图可知，是否开通电话业务对客户流失影响很小。"
   ]
  },
  {
   "cell_type": "code",
   "execution_count": null,
   "id": "0cd5a4fb-e6e0-4e26-a11f-498e3d86548b",
   "metadata": {},
   "outputs": [],
   "source": [
    "# 多线业务对流失的影响\n",
    "df1 = data[data['MultipleLines'] == 'Yes']\n",
    "df2 = data[data['MultipleLines']== 'No']\n",
    "df3 = data[data['MultipleLines']== 'No phone service']\n",
    "\n",
    "fig = plt.figure(figsize=(9,6))\n",
    "\n",
    "ax1 = fig.add_subplot(131)\n",
    "p1 = df1['Churn'].value_counts()\n",
    "ax1.pie(p1, labels=(['No', 'Yes']), autopct='%1.2f%%',explode=(0.1,0) )\n",
    "ax1.set_title('Churn of (MultipleLines = Yes)')\n",
    "\n",
    "\n",
    "ax2 = fig.add_subplot(132)\n",
    "p2 = df2['Churn'].value_counts()\n",
    "ax2.pie(p2, labels=(['No', 'Yes']), autopct='%1.2f%%',explode=(0.1,0) )\n",
    "ax2.set_title('Churn of (MultipleLines = No)')\n",
    "\n",
    "\n",
    "ax3 = fig.add_subplot(133)\n",
    "p3 = df3['Churn'].value_counts()\n",
    "ax3.pie(p3, labels=(['No', 'Yes']), autopct='%1.2f%%',explode=(0.1,0) )\n",
    "ax3.set_title('Churn of (MultipleLines = No phone service)')\n",
    "\n",
    "plt.tight_layout(pad=0.5)\n",
    "plt.show()"
   ]
  },
  {
   "cell_type": "code",
   "execution_count": null,
   "id": "4492331b-5ed1-4406-b276-9d38f3ef4df0",
   "metadata": {},
   "outputs": [],
   "source": [
    "由图可知，是否开通多线业务对客户流失影响很小。此外MultipleLines取值为No和No phone service的两种情况基本一致，后续可以合并在一起。"
   ]
  },
  {
   "cell_type": "code",
   "execution_count": null,
   "id": "108a3ca1-9d2c-4624-bced-8ec8cd312931",
   "metadata": {},
   "outputs": [],
   "source": [
    "# 互联网业务对流失的影响\n",
    "cnt = pd.crosstab(data['InternetService'],data['Churn']) # 建立特征与目标特征的列联表\n",
    "cnt.plot.barh(stacked=True, figsize=(9, 6)) # plot.barh是横向柱状图，plot.bar是纵向\n",
    "plt.show()"
   ]
  },
  {
   "cell_type": "code",
   "execution_count": null,
   "id": "f8e64fae-12ae-451a-a6cc-f62cc01d3cd5",
   "metadata": {},
   "outputs": [],
   "source": [
    "# 互联网相关的业务对流失的影响\n",
    "internetClos = ['OnlineSecurity', 'OnlineBackup', 'DeviceProtection', 'TechSupport', 'StreamingTV', 'StreamingMovies']\n",
    "\n",
    "for i in internetClos:\n",
    "    df1 = data[data[i] == 'Yes']\n",
    "    df2 = data[data[i] == 'No']\n",
    "    df3 = data[data[i] == 'No internet service']\n",
    "\n",
    "    fig = plt.figure(figsize=(12, 6))\n",
    "    plt.title(i)\n",
    "    j = 0\n",
    "\n",
    "    ax1 = fig.add_subplot(131)\n",
    "    p1 = df1['Churn'].value_counts()\n",
    "    ax1.pie(p1, labels=(['No', 'Yes']), autopct='%1.2f%%', explode=(0.1, 0))\n",
    "    ax1.set_title('Churn of (%s = Yes)' % internetClos[j])\n",
    "\n",
    "    ax2 = fig.add_subplot(132)\n",
    "    p2 = df2['Churn'].value_counts()\n",
    "    ax2.pie(p2, labels=(['No', 'Yes']), autopct='%1.2f%%', explode=(0.1, 0))\n",
    "    ax2.set_title('Churn of (%s = No)' % internetClos[j])\n",
    "\n",
    "    ax3 = fig.add_subplot(133)\n",
    "    p3 = df1['Churn'].value_counts()\n",
    "    ax3.pie(p3, labels=(['No', 'Yes']), autopct='%1.2f%%', explode=(0.1, 0))\n",
    "    ax3.set_title('Churn of (%s = No internet service)' % internetClos[j])\n",
    "\n",
    "    j += 1\n",
    "\n",
    "    plt.tight_layout(pad=0.5)\n",
    "    plt.show()"
   ]
  },
  {
   "cell_type": "code",
   "execution_count": null,
   "id": "2480399a-1612-4da4-90fd-9bc32d9d00e1",
   "metadata": {},
   "outputs": [],
   "source": [
    "由图可知：所有互联网相关业务中未开通互联网的客户流失率均为7.40%，可以判断原因是上述六列特征均只在客户开通互联网业务之后才有实际意义，因而不\n",
    "会影响未开通互联网的客户：开通了这些新业务之后，用户的流失率会有不同程度的降低，可以认为多绑定业务有助于用户的留存：StreamingTV和StreamingMovies两列特征对客户流失\n",
    "基本没有影响。此外，由于No internet service也算是No的一种情况，因此后续步骤中可以考虑将两种特征值进行合\n",
    "井。"
   ]
  },
  {
   "cell_type": "code",
   "execution_count": null,
   "id": "49b0905b-240c-4eba-bda7-32ab7becff64",
   "metadata": {},
   "outputs": [],
   "source": [
    "# 合约对流失的影响\n",
    "df1 = data[data['Contract'] == 'Month-to-month']\n",
    "df2 = data[data['Contract']== 'One year']\n",
    "df3 = data[data['Contract']== 'Two year']\n",
    "\n",
    "fig = plt.figure(figsize=(9,4))\n",
    "\n",
    "ax1 = fig.add_subplot(131)\n",
    "p1 = df1['Churn'].value_counts()\n",
    "ax1.pie(p1, labels=(['No', 'Yes']), autopct='%1.2f%%',explode=(0.1,0) )\n",
    "ax1.set_title('Churn of (Contract = Month-month)')\n",
    "\n",
    "\n",
    "ax2 = fig.add_subplot(132)\n",
    "p2 = df2['Churn'].value_counts()\n",
    "ax2.pie(p2, labels=(['No', 'Yes']), autopct='%1.2f%%',explode=(0.1,0) )\n",
    "ax2.set_title('Churn of (Contract = One year)')\n",
    "\n",
    "\n",
    "ax3 = fig.add_subplot(133)\n",
    "p3 = df3['Churn'].value_counts()\n",
    "ax3.pie(p3, labels=(['No', 'Yes']), autopct='%1.2f%%',explode=(0.1,0) )\n",
    "ax3.set_title('Churn of (Contract = Two year)')\n",
    "\n",
    "plt.tight_layout(pad=0.5)\n",
    "plt.show()"
   ]
  },
  {
   "cell_type": "code",
   "execution_count": null,
   "id": "bc54d458-3f40-4506-9789-df442504e322",
   "metadata": {},
   "outputs": [],
   "source": [
    "由图可知：合约期限越长，用户的流失率越低。"
   ]
  },
  {
   "cell_type": "code",
   "execution_count": null,
   "id": "2f39a275-0db6-4a90-8124-15febcca5742",
   "metadata": {},
   "outputs": [],
   "source": [
    "# 是否采用电子结算对流失的影响\n",
    "df1 = data[data['PaperlessBilling'] == 'Yes']\n",
    "df2 = data[data['PaperlessBilling'] == 'No']\n",
    "\n",
    "fig = plt.figure(figsize=(9,4))\n",
    "\n",
    "ax1 = fig.add_subplot(121)\n",
    "p1 = df1['Churn'].value_counts()\n",
    "ax1.pie(p1, labels=(['No', 'Yes']), autopct='%1.2f%%',explode=(0.1,0) )\n",
    "ax1.set_title('Churn of (PaperlessBilling = Yes)')\n",
    "\n",
    "\n",
    "ax2 = fig.add_subplot(122)\n",
    "p2 = df2['Churn'].value_counts()\n",
    "ax2.pie(p2, labels=(['No', 'Yes']), autopct='%1.2f%%',explode=(0.1,0) )\n",
    "ax2.set_title('Churn of (PaperlessBilling = No)')\n",
    "\n",
    "plt.tight_layout(pad=0.5)\n",
    "plt.show()"
   ]
  },
  {
   "cell_type": "code",
   "execution_count": null,
   "id": "31ccbae4-6ae8-4595-b4ef-a5474ac6121c",
   "metadata": {},
   "outputs": [],
   "source": [
    "由图可知：采用电子结算的客户流失率较高，原因可能是电子结算多为按月支付的形式。"
   ]
  },
  {
   "cell_type": "code",
   "execution_count": null,
   "id": "2edf6739-4187-4411-a8f4-d29cfbd7a812",
   "metadata": {},
   "outputs": [],
   "source": [
    "# 付款方式对流失的影响\n",
    "df1 = data[data['PaymentMethod'] == 'Bank transfer (automatic)']\n",
    "df2 = data[data['PaymentMethod'] == 'Credit card (automatic)']\n",
    "df3 = data[data['PaymentMethod'] == 'Electronic check']\n",
    "df4 = data[data['PaymentMethod'] == 'Mailed check']\n",
    "\n",
    "\n",
    "fig = plt.figure(figsize=(15,9))\n",
    "plt.title('付款方式对客户流失的影响')\n",
    "\n",
    "ax1 = fig.add_subplot(221)\n",
    "p1 = df1['Churn'].value_counts()\n",
    "labels1 = p1.index.tolist()\n",
    "ax1.pie(p1, labels=labels1, autopct='%1.2f%%', explode=(0.1,0))\n",
    "ax1.set_title('Churn of (PaymentMethod = Bank transfer (automatic))')\n",
    "\n",
    "ax2 = fig.add_subplot(222)\n",
    "p2 = df2['Churn'].value_counts()\n",
    "labels2 = p2.index.tolist()\n",
    "ax2.pie(p2, labels=labels2, autopct='%1.2f%%', explode=(0.1,0))\n",
    "ax2.set_title('Churn of (PaymentMethod = Credit card automatic)')\n",
    "\n",
    "ax3 = fig.add_subplot(223)\n",
    "p3 = df3['Churn'].value_counts()\n",
    "labels3 = p3.index.tolist()\n",
    "ax3.pie(p3, labels=labels3, autopct='%1.2f%%',explode=(0.1,0) )\n",
    "ax3.set_title('Churn of (PaymentMethod = Electronic check)')\n",
    "\n",
    "ax4 = fig.add_subplot(224)\n",
    "p4 = df4['Churn'].value_counts()\n",
    "labels4 = p4.index.tolist()\n",
    "ax4.pie(p4, labels=labels4, autopct='%1.2f%%',explode=(0.1,0) )\n",
    "ax4.set_title('Churn of (PaymentMethod = Mailed check)')\n",
    "\n",
    "plt.tight_layout(pad=0.5)\n",
    "plt.show()"
   ]
  },
  {
   "cell_type": "code",
   "execution_count": null,
   "id": "c441c6c4-7017-4a6e-a5ed-96d3fea7ae61",
   "metadata": {},
   "outputs": [],
   "source": [
    "由图可知：四种付款方式中采用电子支票的客户流失率远高于其他三种。"
   ]
  },
  {
   "cell_type": "code",
   "execution_count": null,
   "id": "8aae975b-6def-41b5-a126-087d154fa488",
   "metadata": {},
   "outputs": [],
   "source": [
    "# 每月费用核密度估计图\n",
    "fit = plt.figure(figsize=(10, 5))\n",
    "\n",
    "negdf = data[data['Churn'] == 'No']\n",
    "sns.kdeplot(negdf['MonthlyCharges'], label='No') # 等价下面的写法，或者直接定义kind=ked/hist等\n",
    "posdf = data[data['Churn'] == 'Yes']\n",
    "sns.kdeplot(posdf['MonthlyCharges'], label='Yes')\n",
    "plt.legend() # 显示label\n",
    "plt.show()\n",
    "\n",
    "# 总费用核密度估计图\n",
    "fit = plt.figure(figsize=(10, 5))\n",
    "\n",
    "negdf = data[data['Churn'] == 'No']\n",
    "sns.distplot(negdf['TotalCharges'], hist=False, label='No')\n",
    "posdf = data[data['Churn'] == 'Yes']\n",
    "sns.distplot(posdf['TotalCharges'], hist=False, label='Yes')\n",
    "plt.legend()\n",
    "plt.show()"
   ]
  },
  {
   "cell_type": "code",
   "execution_count": null,
   "id": "86a04834-454e-4f24-8baf-511f7df61666",
   "metadata": {},
   "outputs": [],
   "source": [
    "由图可知：客户的流失率的基本趋势是随每月费用的增加而增长，这与实际业务较为符合；当客户的总费用积累越多，流失率越低，这说明这些客户已经称为稳\n",
    "定的客户，不会轻易流失；此外，当每月费用处于70~110之间时流失率较高。"
   ]
  },
  {
   "cell_type": "code",
   "execution_count": null,
   "id": "664ed9d9-9138-4337-b9ce-9caf6b4f006c",
   "metadata": {},
   "outputs": [],
   "source": [
    "五、特征工程"
   ]
  },
  {
   "cell_type": "code",
   "execution_count": null,
   "id": "a6990cd8-960c-4e8d-a358-a1dff023afd7",
   "metadata": {},
   "outputs": [],
   "source": [
    "from sklearn.preprocessing import StandardScaler\n",
    "scaler = StandardScaler()\n",
    "data[['tenure']] = scaler.fit_transform(data[['tenure']])\n",
    "data[['MonthlyCharges']] = scaler.fit_transform(data[['MonthlyCharges']])\n",
    "data[['TotalCharges']] = scaler.fit_transform(data[['TotalCharges']])\n",
    "\n",
    "print(data[['TotalCharges', 'tenure', 'MonthlyCharges']].head()) # 前十数据\n",
    "print(data[['TotalCharges', 'tenure', 'MonthlyCharges']].describe()) # 查看中位数均值等"
   ]
  },
  {
   "cell_type": "code",
   "execution_count": null,
   "id": "027712a9-0873-42f4-aec9-8c4641943350",
   "metadata": {},
   "outputs": [],
   "source": [
    "# 离散特征的处理\n",
    "# 根据上面的数据挖掘结论，先把部分特征合并，好处是只剩下yes和no，不需要做one-hot编码\n",
    "data.loc[data['MultipleLines'] == 'No phone service', 'MultipleLines'] = 'No' # 把MultipleLines这一列中值为No phone service的值，都改成No\n",
    "# data.loc[data['MultipleLines'] == 'No phone service'] = 'No'                # 把MultipleLines这一列中值为No phone service的整行，都改成No\n",
    "print('MultipleLines中还有%d条样本值为‘No phone service' % data[data['MultipleLines'] == 'No phone service'].shape[0])\n",
    "\n",
    "internetClos = ['OnlineSecurity', 'OnlineBackup', 'DeviceProtection', 'TechSupport', 'StreamingTV', 'StreamingMovies']\n",
    "\n",
    "j = 0\n",
    "for i in internetClos:\n",
    "    data.loc[data[i] == 'No internet service',i] = 'No'\n",
    "    print('%s中还有%d条样本值为No phone service' % (internetClos[j], data[data[i] == 'No phone service'].shape[0]))\n",
    "    j += 1\n",
    "\n",
    "\n",
    "# 部分类别的特征只有两类取值，可以用0，1代替，另可视化过程发现对结果无影响的特征可以删除\n",
    "\n",
    "# 选择特征值为yse和no的列并改为1，0\n",
    "codeCols = list(data.columns[3: 17].drop(['tenure', 'PhoneService', 'InternetService', 'StreamingTV', 'StreamingMovies', 'Contract']))\n",
    "# 从4-17列中删除以上无影响特征\n",
    "for i in codeCols:\n",
    "    data[i] = data[i].map({'Yes':1, 'No':0}) # 剩下的列，改值\n",
    "data['Churn'] = data['Churn'].map({'Yes':1, 'No':0})\n",
    "\n",
    "# 其他无序类别特征采用one-hot编码\n",
    "onehotCols = ['InternetService', 'Contract', 'PaymentMethod']\n",
    "churndf = data['Churn'].to_frame() # 取出目标列变量，方便后面合并\n",
    "featuredf = data.drop(['Churn'], axis=1)  # 所有列特征  .drop函数：保留除了被drop以外的特征\n",
    "\n",
    "for i in onehotCols:\n",
    "    onehotdf = pd.get_dummies(featuredf[i], prefix=i)         # pd.get_dummies函数：pandas 中用于执行 独热编码的重要函数，\n",
    "                                                              # 将分类变量转换为机器学习算法更容易理解的数值格式。prefix：新列名的前缀\n",
    "    featuredf = pd.concat([featuredf, onehotdf], axis=1) # 编码后特征拼接到去除目标特征的数据集中 axis=1:横向合并\n",
    "\n",
    "data = pd.concat([featuredf, churndf], axis=1) # 拼回目标特征，保证在最后一排\n",
    "data = data.drop(onehotCols, axis=1)  # 删除原特征列\n",
    "print(data.head())"
   ]
  },
  {
   "cell_type": "code",
   "execution_count": null,
   "id": "d65a3414-f1f2-43c9-b72c-8d3f108cb91c",
   "metadata": {},
   "outputs": [],
   "source": [
    "# 特征选择\n",
    "# 删除无用特征\n",
    "# custonerID特征对模型预测不起贡献，可以直接删除。\n",
    "# gender、PhoneService、StreaningTv和Streaminglovies则在可视化环节中较为明显地观察到其对目标变量的影响较小，因此也删去这四列特征\n",
    "data = data.drop(['customerID', 'gender', 'PhoneService', 'StreamingTV', 'StreamingMovies'], axis=1)\n",
    "\n",
    "# 计算特征之间相关系数，x与x，x与y\n",
    "nu_fea = data[['tenure', 'MonthlyCharges','TotalCharges']] # 选择连续型特征计算相关系数\n",
    "nu_fea = list(nu_fea)\n",
    "person_mat = data[nu_fea].corr(method='spearman') # 计算皮尔逊相关稀系数矩阵 .corr()：计算相关系数矩阵,method='spearman'：指定使用斯皮尔曼相关系数\n",
    "\n",
    "plt.figure(figsize=(8, 8))\n",
    "sns.heatmap(person_mat, square=True, annot=True, cmap='coolwarm')\n",
    "plt.show()"
   ]
  },
  {
   "cell_type": "code",
   "execution_count": null,
   "id": "0fdbf415-2d33-4073-91ad-638fa69b8ced",
   "metadata": {},
   "outputs": [],
   "source": [
    "# 此外，还可以采用相关系数矩阵衡量连续型特征之间的相关性、用卡方检验衡量离散型特征与目标变量的相关关系等等，\n",
    "# 从而进行进一步的特征选择。例如，可以对数据集中的三列连续型数值特征tenure，MonthlyCharges，TotalCharges计算相关系数，\n",
    "# 其中TotalCharges与其他两列特征的相关系数均大于%60，后续可以考虑删除该列\n",
    "data = data.drop(['TotalCharges'], axis=1) # 观察可知相关系数大于0.6，所以删除冗余特征"
   ]
  },
  {
   "cell_type": "code",
   "execution_count": null,
   "id": "45e01c4d-daae-4c61-bf95-a931c36c5360",
   "metadata": {},
   "outputs": [],
   "source": [
    "# 保存数据\n",
    "data.to_csv('D:\\ProgramData\\PycharmProjects\\pythonProject1\\processed_data.csv', index=False) \n",
    "print(data.info())"
   ]
  },
  {
   "cell_type": "code",
   "execution_count": null,
   "id": "6fa5979a-f612-4739-8d79-f91723d22dde",
   "metadata": {},
   "outputs": [],
   "source": [
    "# 解决数据不平衡问题\n",
    "# 正负样本大概为3/1，通过smote方法做上采样处理，样本点7043比较少\n",
    "# 加载修改过的新数据\n",
    "# 在可视化环节中，我们观察到正负样本的比例大概在1:3左右，因此需要对正样本进行上采样或对负样本进行下采样。考虑到本数据集仅有7千多条样本，不能\n",
    "# 采用下采样，进行上采样更为合理，本案例采用上采样中较为成熟的SMOTE方法生成更多的正样本。\n",
    "data = pd.read_csv('D:\\ProgramData\\PycharmProjects\\pythonProject1\\processed_data.csv')\n",
    "\n",
    "#定义Smote类\n",
    "class Smote:\n",
    "    def __init__(self, samples, N, k):   #samples是少数类别的样本的特征\n",
    "        self.n_samples, self.n_attrs = samples.shape\n",
    "        self.N = N #采样的倍率\n",
    "        self.k = k\n",
    "        self.samples = samples\n",
    "        self.newindex = 0\n",
    "    def over_sampling(self):\n",
    "        N = int(self.N)\n",
    "        self.synthetic = np.zeros((self.n_samples * N, self.n_attrs))         #用于存放新合成的样本\n",
    "        neighbors = NearestNeighbors(n_neighbors=self.k).fit(self.samples)    #KDtree\n",
    "        for i in range(len(self.samples)):             #对每个少数类样本均求其在所有少数类样本中的k近令邻\n",
    "            nnarray = neighbors.kneighbors(self.samples[i].reshape(1,-1), return_distance=False) [0]\n",
    "            self._populate(N, i, nnarray)\n",
    "        return self.synthetic\n",
    "#为每个少数类样本选择k个最近邻中的N个，并生成N个合成样本\n",
    "    def _populate(self, N, i, nnarray):\n",
    "        for j in range (N):\n",
    "            nn = random.randint(0, self.k-1)\n",
    "            dif=self.samples[nnarray[nn]] - self.samples[i]\n",
    "            gap=random.random()\n",
    "            self.synthetic[self.newindex] = self.samples[i] + gap * dif\n",
    "            self.newindex += 1\n",
    "\n",
    "# 每个正样本都采用smote方法随机生成两个新样本\n",
    "posDf = data[data['Churn'] == 1].drop(['Churn'], axis=1) # 取删除目标特征列的所有正样本列\n",
    "posArray = posDf.values # pd.DataFream转为np.array,smote输入是np.array格式\n",
    "newposArray = Smote(posArray, 2, 5).over_sampling()\n",
    "newposDf = pd.DataFrame(newposArray) # np.array --> pd.DataFream\n",
    "\n",
    "# 调整为原来正样本的格式\n",
    "newposDf.columns = posDf.columns # 还原特征名\n",
    "cateCols = list(newposDf.columns.drop(['tenure', 'MonthlyCharges'])) # 提取离散特征组成列表\n",
    "for i in cateCols:\n",
    "    newposDf[i] = newposDf[i].apply((lambda x: 1 if x >= 0.5 else 0)) # 离散特征组成的列表含有小数，不是0，1，四舍五入转化成0，1\n",
    "newposDf['Churn'] = 1 # 添加目标特征列\n",
    "\n",
    "from sklearn.utils import shuffle\n",
    "#newPosDf =newPosDf[:3305]\n",
    "#直接选取前3305条样本\n",
    "newposDf = newposDf.sample(n=3305)#随机抽歇3305条样本\n",
    "data = pd.concat([data, newposDf])\n",
    "#竖向拼接\n",
    "data = shuffle(data).reset_index(drop=True) #祥本打乱\n",
    "print(data['Churn'].value_counts())\n",
    "print('此时数据集的规模为：', data.shape)\n",
    "data.to_csv('D:\\ProgramData\\PycharmProjects\\pythonProject1\\processed_smote.csv', index=False)\n",
    "data.head()"
   ]
  },
  {
   "cell_type": "code",
   "execution_count": null,
   "id": "e2f463e0-3a84-443f-a49e-98aaf3b325c2",
   "metadata": {},
   "outputs": [],
   "source": [
    "六、模型选型与训练：使用逻辑回归、SVC、随机森林、LightGBM，选择最优"
   ]
  },
  {
   "cell_type": "code",
   "execution_count": null,
   "id": "fbf0bcbe-4dbf-4a5c-a26f-0ad1e7c2c9dc",
   "metadata": {},
   "outputs": [],
   "source": [
    "from sklearn.linear_model import LogisticRegression as LR\n",
    "from sklearn.svm import SVC\n",
    "from sklearn.ensemble import RandomForestClassifier as RF\n",
    "from lightgbm import LGBMClassifier as LGB\n",
    "from sklearn.metrics import precision_score, recall_score, f1_score, classification_report # 模型评分\n",
    "from sklearn.model_selection import train_test_split # 训练\n",
    "from sklearn.model_selection import KFold            # 交叉验证"
   ]
  },
  {
   "cell_type": "code",
   "execution_count": null,
   "id": "a5121653-4f0e-493d-ae13-8f6a701571c5",
   "metadata": {},
   "outputs": [],
   "source": [
    "# k折交叉验证，用于选出最佳模型， 仅仅是选型， 后续将用选出的模型对原数据再进行训练预测\n",
    "def kfold_cv(X, y, classifier, **kwargs):\n",
    "    '''\n",
    "    :param X: 特征\n",
    "    :param y: 目标变量\n",
    "    :param classifier: 分类器\n",
    "    :param kwargs: 参数\n",
    "    :return: 预测结果\n",
    "    '''\n",
    "    kf = KFold(n_splits=5, shuffle=True) # 5折交叉验证,即会得到 5 组训练集和测试集\n",
    "    y_pred = np.zeros(len(y)) # 初始化预测数组\n",
    "    start = time.time()\n",
    "    for train_index, test_index in kf.split(X):  # kf.split(X):从X中得到 5 组训练集和测试集\n",
    "                                                 # 这里有多组数据，所以用index，下面用循环遍历，\n",
    "                                                 # 都求出所有数据集的预测结果\n",
    "        X_train = X[train_index]\n",
    "        X_test = X[test_index]\n",
    "        y_train = y[train_index]  #  划分数据集\n",
    "\n",
    "        clf = classifier(**kwargs)\n",
    "        clf.fit(X_train, y_train)\n",
    "        y_pred[test_index] = clf.predict(X_test) # 模型预测\n",
    "\n",
    "    end = time.time()\n",
    "    usedtime = end - start\n",
    "    print('训练预测用时：', usedtime)\n",
    "    return y_pred"
   ]
  },
  {
   "cell_type": "code",
   "execution_count": null,
   "id": "a0a99fbd-a881-41cc-a578-f758c280799d",
   "metadata": {},
   "outputs": [],
   "source": [
    "# 加载数据集，获取X,y\n",
    "data = pd.read_csv('D:\\ProgramData\\PycharmProjects\\pythonProject1\\processed_smote.csv')\n",
    "X = data.iloc[:,:-1]\n",
    "Y = data.iloc[:,-1]\n",
    "# print(X.shape)\n",
    "# print(Y.shape)\n",
    "# print(data.head(10))\n",
    "\n",
    "x_train, x_test, y_train, y_test = train_test_split(X, Y, test_size=0.2, random_state=1)\n",
    "# print(x_train.shape)\n",
    "# print(x_test.shape)\n",
    "# print(y_train.shape)\n",
    "# print(y_test.shape)\n",
    "\n",
    "LR_pred = kfold_cv(x_train.values, y_train.values, LR, penalty='l2', C=1.0) # penaly='l2', C=1.0： 惩罚系数 就是LR里的参数，所以上面要加**kwargs\n",
    "SVC_pred = kfold_cv(x_train.values, y_train.values, SVC, C=1.0)\n",
    "RF_pred = kfold_cv(x_train.values, y_train.values, RF, n_estimators=100, max_depth=10) #n_estimators=100: 选100个特征分割做决策树, max_depth=10： 树最大深度10层\n",
    "LGB_pred = kfold_cv(x_train.values, y_train.values, LGB, learning_rate=0.1, n_estimators=100, max_depth=10)"
   ]
  },
  {
   "cell_type": "code",
   "execution_count": null,
   "id": "ac38f55a-4400-4907-8587-63abc5a33a38",
   "metadata": {},
   "outputs": [],
   "source": [
    "# 评分，选出最佳模型\n",
    "scoreDF =pd.DataFrame(columns=['LR', 'SVC', 'RF', 'LGB'])\n",
    "pred = [LR_pred, SVC_pred, RF_pred, LGB_pred]\n",
    "\n",
    "for i in range(len(pred)):\n",
    "    p = precision_score(y_train.values, pred[i])\n",
    "    r = recall_score(y_train.values, pred[i])\n",
    "    f1 = f1_score(y_train.values, pred[i])\n",
    "    scoreDF.iloc[:, i] = pd.Series([r, p, f1])\n",
    "\n",
    "scoreDF.index = ['Recall', 'Precision', 'F1_score']\n",
    "print(scoreDF)"
   ]
  },
  {
   "cell_type": "code",
   "execution_count": null,
   "id": "ed3d8498-dbab-4608-9969-97f18a200ad4",
   "metadata": {},
   "outputs": [],
   "source": [
    "# 选出LGB模型，对原数据做训练预测\n",
    "lgb = LGB(learning_rate=0.1, n_estimators=1000, max_depth=10)\n",
    "lgb.fit(x_train, y_train)\n",
    "\n",
    "y_train_pred = lgb.predict(x_train)\n",
    "y_test_pred = lgb.predict(x_test)\n",
    "print(classification_report(y_train, y_train_pred))\n",
    "print(classification_report(y_test, y_test_pred))\n"
   ]
  },
  {
   "cell_type": "code",
   "execution_count": null,
   "id": "51cd268b-4383-465b-a947-52b794f93564",
   "metadata": {},
   "outputs": [],
   "source": []
  },
  {
   "cell_type": "code",
   "execution_count": null,
   "id": "243deb8d-bd76-4702-b263-d60c583ba2e2",
   "metadata": {},
   "outputs": [],
   "source": [
    "# 特征重要度，树模型都有特征重要度\n",
    "feature_importances = lgb.feature_importances_\n",
    "feature_important_df = pd.DataFrame(X.columns, columns=['feature']) # 列出特征\n",
    "feature_important_df['importance'] = feature_importances   # 加上重要度列\n",
    "print(feature_important_df)\n",
    "\n",
    "\n",
    "mpl.use('TkAgg')  # 或者 'Qt5Agg'\n",
    "plt, ax = plt.subplots(figsize=(10, 10))\n",
    "lightgbm.plot_importance(lgb, height=0.5, ax=ax, grid=False)\n",
    "# plt.title('Feature importances')\n",
    "plt.savefig('feature_importance.png', dpi=300, bbox_inches='tight')\n",
    "plt.show()"
   ]
  },
  {
   "cell_type": "code",
   "execution_count": null,
   "id": "4842f781-145b-4752-b261-5843cbf69a98",
   "metadata": {},
   "outputs": [],
   "source": [
    "七、模型持久化"
   ]
  },
  {
   "cell_type": "code",
   "execution_count": null,
   "id": "dd75fa41-9695-4a33-9163-c8af84ab0e44",
   "metadata": {},
   "outputs": [],
   "source": [
    "import joblib\n",
    "joblib.dump(lgb, 'D:\\ProgramData\\PycharmProjects\\pythonProject1\\output_modle\\lgb.m')\n",
    "# joblib.load()"
   ]
  },
  {
   "cell_type": "code",
   "execution_count": null,
   "id": "949285d1-6de0-4298-a4e0-0ca156991ffd",
   "metadata": {},
   "outputs": [],
   "source": [
    "分析与决策\n",
    "  在可视化阶段，可以发现较易流失的客户在各个特征的用户画像如下：\n",
    "基本信息：\n",
    "  老年人\n",
    "  未婚\n",
    "  无家属\n",
    "  入网时间不长，特别是2个月之内\n",
    "\n",
    "开通业务\n",
    "  开通光纤网络\n",
    "  未开通在线安全、在线备份、设备保护、技术支持等互联网增值业务\n",
    "\n",
    "签订合约\n",
    "  合约期限较短，特别是逐月付费客户最易流失\n",
    "  采用电子结算（多为按月支付）\n",
    "  采用电子支票\n",
    "  每月费用较高，特别是70～110之间\n",
    "  总费用较低（侧面反应入网时间较短）\n",
    "\n",
    "根据用户画像，可以从各个方面推出相应活动以求留下可能流失的客户：\n",
    "对老人推出亲情套餐等优惠\n",
    "对未婚、无家属的客户推出暖心套餐等优惠\n",
    "对新入网用户提供一定时期的优惠活动，直至客户到达稳定期\n",
    "提高电话服务、光纤网络、网络电视、网络电影等的客户体验，尝试提高用户的留存率，避免客户流失\n",
    "提高电话服务、光纤网络、网络电视、网络电影等的客户体验，尝试提高用户的留存率，避免客户流失\n",
    "对能够帮助客户留存的在线安全、在线备份、设备保护、技术支持等互联网增值业务，加大宣传推广力度\n",
    "对逐月付费用户推出年费优惠活动\n",
    "对使用电子结算、电子支票的客户，推出其他支付方式的优惠活动\n",
    "对每月费用在70～110之间推出一定的优惠活动"
   ]
  },
  {
   "cell_type": "code",
   "execution_count": null,
   "id": "d826e144-f101-4682-ad38-26f7b938c9f2",
   "metadata": {},
   "outputs": [],
   "source": [
    "八、根据训练好的模型，输入原数据集进行预测，判断哪些用户进行重点留存"
   ]
  },
  {
   "cell_type": "code",
   "execution_count": null,
   "id": "668ee352-2198-4ddd-892e-e7a27cfc00ba",
   "metadata": {},
   "outputs": [],
   "source": [
    "data = pd.read_csv('D:\\ProgramData\\PycharmProjects\\pythonProject1\\processed_data.csv')  # 上采样之前的数据\n",
    "X = data.iloc[:, :-1]\n",
    "y = data.iloc[:, -1]\n",
    "pred_prob = lgb.predict_proba(X)\n",
    "pred_prob = np.round(pred_prob, 1)  # 对预测的数据保留两位小数，便于分组观察 np.round:对数组进行四舍五入的函数 ,1表示保留一位小数\n",
    "print(pred_prob[:5])\n",
    "print(y[:5])\n",
    "prodf = pd.DataFrame(pred_prob)\n",
    "churnDF = pd.DataFrame(y)\n",
    "df1 = pd.concat([prodf,churnDF], axis=1) # 合并预测值和真实值，便于观察\n",
    "df1.columns = ['prob_0', 'prob_1', 'churn']\n",
    "print(df1.head(10))"
   ]
  },
  {
   "cell_type": "code",
   "execution_count": null,
   "id": "08ed8e5f-45b4-4ade-96f8-ef827d41989a",
   "metadata": {},
   "outputs": [],
   "source": [
    "#分组计算每种概率值对应的真实流失率\n",
    "df1.drop('prob_0', inplace=True, axis=1)\n",
    "group = df1.groupby(['prob_1']) # 单个列分组\n",
    "cnt = group.count() # 每种概率值对应的样本数\n",
    "true_prob = group.sum() / group.count() # 真实流失率\n",
    "df2 = pd.concat([cnt, true_prob], axis=1).reset_index()\n",
    "df2.columns = ['prob_1', 'cnt', 'ture_prob']\n",
    "# print(group.head(10))\n",
    "print(df2)"
   ]
  },
  {
   "cell_type": "code",
   "execution_count": null,
   "id": "f77fa463-cea1-4a1d-844d-2347fe5f80ae",
   "metadata": {},
   "outputs": [],
   "source": [
    "可知：预测流失率越大的客户中越有可能真正发生流失。对运营商而言，可以根据各预测概率值分组的真实流失率设定阀值进行决策。例如，假设阀值为\n",
    "true_prob=0.5，即优先关注真正流失为50%以上的群体，也就表示运营商可以对预测结果中大于等于0.6的客户进行重点留存。"
   ]
  },
  {
   "cell_type": "code",
   "execution_count": null,
   "id": "54677899-8ff2-4057-941d-9afff9c43249",
   "metadata": {},
   "outputs": [],
   "source": []
  },
  {
   "cell_type": "code",
   "execution_count": null,
   "id": "63feccf0-624b-426b-abd8-04d81daa73f2",
   "metadata": {},
   "outputs": [],
   "source": []
  },
  {
   "cell_type": "code",
   "execution_count": null,
   "id": "da51ea95-2057-4dc5-af58-a13f564f8414",
   "metadata": {},
   "outputs": [],
   "source": []
  },
  {
   "cell_type": "code",
   "execution_count": null,
   "id": "112d3081-9f66-40e2-801e-bb06bc3c9f0b",
   "metadata": {},
   "outputs": [],
   "source": []
  },
  {
   "cell_type": "code",
   "execution_count": null,
   "id": "0adbcfca-ebd5-4fe0-bcb0-5cfe970dbdf5",
   "metadata": {},
   "outputs": [],
   "source": []
  },
  {
   "cell_type": "code",
   "execution_count": null,
   "id": "88a6f590-48f6-4fdc-a6de-6edb4282ead5",
   "metadata": {},
   "outputs": [],
   "source": []
  },
  {
   "cell_type": "code",
   "execution_count": null,
   "id": "c5ea6a95-1b1b-4f6c-a788-d656775e1d5d",
   "metadata": {},
   "outputs": [],
   "source": []
  },
  {
   "cell_type": "code",
   "execution_count": null,
   "id": "108604eb-31cf-4d2f-ba9f-5c08d56ef936",
   "metadata": {},
   "outputs": [],
   "source": []
  },
  {
   "cell_type": "code",
   "execution_count": null,
   "id": "e1cb2580-a5e4-46b2-b93a-cc21f45f6c97",
   "metadata": {},
   "outputs": [],
   "source": []
  },
  {
   "cell_type": "code",
   "execution_count": null,
   "id": "7c587013-4ea6-4560-bbaa-fe9f6127464b",
   "metadata": {},
   "outputs": [],
   "source": []
  },
  {
   "cell_type": "code",
   "execution_count": null,
   "id": "03b1a056-15f9-4f22-ad5c-4f9260289e8c",
   "metadata": {},
   "outputs": [],
   "source": []
  },
  {
   "cell_type": "code",
   "execution_count": null,
   "id": "5f568f5b-a514-4d77-959a-b4f852d1e8eb",
   "metadata": {},
   "outputs": [],
   "source": []
  },
  {
   "cell_type": "code",
   "execution_count": null,
   "id": "78e71e37-7102-445a-83fa-f6f80a184cc9",
   "metadata": {},
   "outputs": [],
   "source": []
  },
  {
   "cell_type": "code",
   "execution_count": null,
   "id": "d6761351-7722-4da7-942e-671f9521e56a",
   "metadata": {},
   "outputs": [],
   "source": []
  },
  {
   "cell_type": "code",
   "execution_count": null,
   "id": "60efa29a-cf0c-4873-8e6f-8dcffb6b37e9",
   "metadata": {},
   "outputs": [],
   "source": []
  },
  {
   "cell_type": "code",
   "execution_count": null,
   "id": "39eee46c-480c-44ac-b380-ca61cbbcf375",
   "metadata": {},
   "outputs": [],
   "source": []
  },
  {
   "cell_type": "code",
   "execution_count": null,
   "id": "7cd8985c-6236-4eaf-b7c0-8577240b1209",
   "metadata": {},
   "outputs": [],
   "source": []
  },
  {
   "cell_type": "code",
   "execution_count": null,
   "id": "968f00a1-1092-4914-bd20-893c282ddcfd",
   "metadata": {},
   "outputs": [],
   "source": []
  },
  {
   "cell_type": "code",
   "execution_count": null,
   "id": "cbb8eeba-1c37-4b13-a5bf-2ddeaa64211b",
   "metadata": {},
   "outputs": [],
   "source": []
  },
  {
   "cell_type": "code",
   "execution_count": null,
   "id": "e2f52014-c0cc-47fd-a0ab-66ee18102a00",
   "metadata": {},
   "outputs": [],
   "source": []
  }
 ],
 "metadata": {
  "kernelspec": {
   "display_name": "Python 3 (ipykernel)",
   "language": "python",
   "name": "python3"
  },
  "language_info": {
   "codemirror_mode": {
    "name": "ipython",
    "version": 3
   },
   "file_extension": ".py",
   "mimetype": "text/x-python",
   "name": "python",
   "nbconvert_exporter": "python",
   "pygments_lexer": "ipython3",
   "version": "3.10.5"
  }
 },
 "nbformat": 4,
 "nbformat_minor": 5
}
